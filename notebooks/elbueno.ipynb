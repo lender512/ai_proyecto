{
 "cells": [
  {
   "cell_type": "code",
   "execution_count": 4,
   "metadata": {},
   "outputs": [],
   "source": [
    "import numpy as np\n",
    "import pandas as pd\n",
    "import matplotlib.pyplot as plt\n",
    "from mpl_toolkits.mplot3d import Axes3D\n",
    "import math\n",
    "import os\n",
    "import random\n",
    "import numpy as np\n",
    "from skimage.io import imread, imshow\n",
    "from skimage.transform import resize\n",
    "from sklearn.linear_model import LinearRegression\n",
    "from sklearn.metrics import r2_score\n",
    "from sklearn.metrics import mean_squared_error\n",
    "from sklearn.preprocessing import PolynomialFeatures\n",
    "import matplotlib.pyplot as plt\n",
    "import pywt\n",
    "import pywt.data\n",
    "import sys\n",
    "sys.path.append('../src/')\n",
    "\n",
    "from ai_utec import gradient_descent as gd\n",
    "from ai_utec import utility as ut"
   ]
  },
  {
   "cell_type": "markdown",
   "metadata": {},
   "source": [
    "# Lectura de Datos"
   ]
  },
  {
   "cell_type": "code",
   "execution_count": 5,
   "metadata": {},
   "outputs": [
    {
     "name": "stdout",
     "output_type": "stream",
     "text": [
      "             X         Y      FFMC       DMC        DC       ISI      temp  \\\n",
      "X     1.000000  0.539548 -0.021039 -0.048384 -0.085916  0.006210 -0.051258   \n",
      "Y     0.539548  1.000000 -0.046308  0.007782 -0.101178 -0.024488 -0.024103   \n",
      "FFMC -0.021039 -0.046308  1.000000  0.382619  0.330512  0.531805  0.431532   \n",
      "DMC  -0.048384  0.007782  0.382619  1.000000  0.682192  0.305128  0.469594   \n",
      "DC   -0.085916 -0.101178  0.330512  0.682192  1.000000  0.229154  0.496208   \n",
      "ISI   0.006210 -0.024488  0.531805  0.305128  0.229154  1.000000  0.394287   \n",
      "temp -0.051258 -0.024103  0.431532  0.469594  0.496208  0.394287  1.000000   \n",
      "RH    0.085223  0.062221 -0.300995  0.073795 -0.039192 -0.132517 -0.527390   \n",
      "wind  0.018798 -0.020341 -0.028485 -0.105342 -0.203466  0.106826 -0.227116   \n",
      "rain  0.065387  0.033234  0.056702  0.074790  0.035861  0.067668  0.069491   \n",
      "area  0.063385  0.044873  0.040122  0.072994  0.049383  0.008258  0.097844   \n",
      "\n",
      "            RH      wind      rain      area  \n",
      "X     0.085223  0.018798  0.065387  0.063385  \n",
      "Y     0.062221 -0.020341  0.033234  0.044873  \n",
      "FFMC -0.300995 -0.028485  0.056702  0.040122  \n",
      "DMC   0.073795 -0.105342  0.074790  0.072994  \n",
      "DC   -0.039192 -0.203466  0.035861  0.049383  \n",
      "ISI  -0.132517  0.106826  0.067668  0.008258  \n",
      "temp -0.527390 -0.227116  0.069491  0.097844  \n",
      "RH    1.000000  0.069410  0.099751 -0.075519  \n",
      "wind  0.069410  1.000000  0.061119  0.012317  \n",
      "rain  0.099751  0.061119  1.000000 -0.007366  \n",
      "area -0.075519  0.012317 -0.007366  1.000000  \n"
     ]
    },
    {
     "ename": "NameError",
     "evalue": "name 'truwW' is not defined",
     "output_type": "error",
     "traceback": [
      "\u001b[1;31m---------------------------------------------------------------------------\u001b[0m",
      "\u001b[1;31mNameError\u001b[0m                                 Traceback (most recent call last)",
      "\u001b[1;32mc:\\Users\\lucho\\repos\\ai_proyecto\\notebooks\\elbueno.ipynb Cell 3\u001b[0m in \u001b[0;36m<cell line: 19>\u001b[1;34m()\u001b[0m\n\u001b[0;32m     <a href='vscode-notebook-cell:/c%3A/Users/lucho/repos/ai_proyecto/notebooks/elbueno.ipynb#W2sZmlsZQ%3D%3D?line=9'>10</a>\u001b[0m xTr, yTr, xV, yV, xT, yT \u001b[39m=\u001b[39m ut\u001b[39m.\u001b[39mclassic_split(x, y)\n\u001b[0;32m     <a href='vscode-notebook-cell:/c%3A/Users/lucho/repos/ai_proyecto/notebooks/elbueno.ipynb#W2sZmlsZQ%3D%3D?line=11'>12</a>\u001b[0m \u001b[39m# print(xTr.shape)\u001b[39;00m\n\u001b[0;32m     <a href='vscode-notebook-cell:/c%3A/Users/lucho/repos/ai_proyecto/notebooks/elbueno.ipynb#W2sZmlsZQ%3D%3D?line=12'>13</a>\u001b[0m \u001b[39m# print(yTr.shape)\u001b[39;00m\n\u001b[0;32m     <a href='vscode-notebook-cell:/c%3A/Users/lucho/repos/ai_proyecto/notebooks/elbueno.ipynb#W2sZmlsZQ%3D%3D?line=13'>14</a>\u001b[0m \u001b[39m# print(xV.shape)\u001b[39;00m\n\u001b[0;32m     <a href='vscode-notebook-cell:/c%3A/Users/lucho/repos/ai_proyecto/notebooks/elbueno.ipynb#W2sZmlsZQ%3D%3D?line=14'>15</a>\u001b[0m \u001b[39m# print(yV.shape)\u001b[39;00m\n\u001b[0;32m     <a href='vscode-notebook-cell:/c%3A/Users/lucho/repos/ai_proyecto/notebooks/elbueno.ipynb#W2sZmlsZQ%3D%3D?line=15'>16</a>\u001b[0m \u001b[39m# print(xT.shape)\u001b[39;00m\n\u001b[0;32m     <a href='vscode-notebook-cell:/c%3A/Users/lucho/repos/ai_proyecto/notebooks/elbueno.ipynb#W2sZmlsZQ%3D%3D?line=16'>17</a>\u001b[0m \u001b[39m# print(xT.shape)\u001b[39;00m\n\u001b[1;32m---> <a href='vscode-notebook-cell:/c%3A/Users/lucho/repos/ai_proyecto/notebooks/elbueno.ipynb#W2sZmlsZQ%3D%3D?line=18'>19</a>\u001b[0m \u001b[39mprint\u001b[39m(truwW\u001b[39m.\u001b[39mpredict(predict))\n\u001b[0;32m     <a href='vscode-notebook-cell:/c%3A/Users/lucho/repos/ai_proyecto/notebooks/elbueno.ipynb#W2sZmlsZQ%3D%3D?line=19'>20</a>\u001b[0m \u001b[39mprint\u001b[39m(yT)\n\u001b[0;32m     <a href='vscode-notebook-cell:/c%3A/Users/lucho/repos/ai_proyecto/notebooks/elbueno.ipynb#W2sZmlsZQ%3D%3D?line=20'>21</a>\u001b[0m w, predict, lossT, lossV \u001b[39m=\u001b[39m gd\u001b[39m.\u001b[39mtrain(xTr, yTr, xV, yV, epochs\u001b[39m=\u001b[39m\u001b[39m1000000\u001b[39m, alpha\u001b[39m=\u001b[39m\u001b[39m0.01\u001b[39m, norm_f\u001b[39m=\u001b[39mut\u001b[39m.\u001b[39mnorm, \n\u001b[0;32m     <a href='vscode-notebook-cell:/c%3A/Users/lucho/repos/ai_proyecto/notebooks/elbueno.ipynb#W2sZmlsZQ%3D%3D?line=21'>22</a>\u001b[0m     denorm_f\u001b[39m=\u001b[39mut\u001b[39m.\u001b[39mdenorm, extra_f \u001b[39m=\u001b[39m ut\u001b[39m.\u001b[39madd_bias,\n\u001b[0;32m     <a href='vscode-notebook-cell:/c%3A/Users/lucho/repos/ai_proyecto/notebooks/elbueno.ipynb#W2sZmlsZQ%3D%3D?line=22'>23</a>\u001b[0m                                                           winit_f \u001b[39m=\u001b[39m ut\u001b[39m.\u001b[39mrandom_weights,\n\u001b[1;32m   (...)\u001b[0m\n\u001b[0;32m     <a href='vscode-notebook-cell:/c%3A/Users/lucho/repos/ai_proyecto/notebooks/elbueno.ipynb#W2sZmlsZQ%3D%3D?line=27'>28</a>\u001b[0m                                                           update_f \u001b[39m=\u001b[39m ut\u001b[39m.\u001b[39msubstract_delta,\n\u001b[0;32m     <a href='vscode-notebook-cell:/c%3A/Users/lucho/repos/ai_proyecto/notebooks/elbueno.ipynb#W2sZmlsZQ%3D%3D?line=28'>29</a>\u001b[0m                                                           batch_f \u001b[39m=\u001b[39m ut\u001b[39m.\u001b[39mrandom_batch_gen(\u001b[39m4\u001b[39m))\n",
      "\u001b[1;31mNameError\u001b[0m: name 'truwW' is not defined"
     ]
    }
   ],
   "source": [
    "url = \"https://raw.githubusercontent.com/nutax/ai-pro1-files/main/forestfires.csv\"\n",
    "dataset = pd.read_csv(url)\n",
    "print(dataset.corr())\n",
    "x = (dataset[[\"X\",\"Y\",\"FFMC\",\"DMC\",\"DC\",\"ISI\",\"temp\",\"RH\",\"wind\",\"rain\"]]).to_numpy()\n",
    "y = (dataset[[\"area\"]]).to_numpy()\n",
    "\n",
    "# print(x.shape)\n",
    "# print(y.shape)\n",
    "# print(dir(utility))\n",
    "xTr, yTr, xV, yV, xT, yT = ut.classic_split(x, y)\n",
    "\n",
    "# print(xTr.shape)\n",
    "# print(yTr.shape)\n",
    "# print(xV.shape)\n",
    "# print(yV.shape)\n",
    "# print(xT.shape)\n",
    "# print(xT.shape)\n",
    "\n",
    "print(yT)\n",
    "w, predict, lossT, lossV = gd.train(xTr, yTr, xV, yV, epochs=1000000, alpha=0.01, norm_f=ut.norm, \n",
    "    denorm_f=ut.denorm, extra_f = ut.add_bias,\n",
    "                                                          winit_f = ut.random_weights,\n",
    "                                                          hypo_f = ut.weighted_sum,\n",
    "                                                          diff_f = ut.difference,\n",
    "                                                          loss_f = ut.lm_loss,\n",
    "                                                          delta_f = ut.lm_delta,\n",
    "                                                          update_f = ut.substract_delta,\n",
    "                                                          batch_f = ut.random_batch_gen(4))\n",
    "# print(w)\n",
    "print(ut.r_squared(yT, predict(xT)))"
   ]
  }
 ],
 "metadata": {
  "kernelspec": {
   "display_name": "Python 3.10.6 64-bit (windows store)",
   "language": "python",
   "name": "python3"
  },
  "language_info": {
   "codemirror_mode": {
    "name": "ipython",
    "version": 3
   },
   "file_extension": ".py",
   "mimetype": "text/x-python",
   "name": "python",
   "nbconvert_exporter": "python",
   "pygments_lexer": "ipython3",
   "version": "3.10.6"
  },
  "orig_nbformat": 4,
  "vscode": {
   "interpreter": {
    "hash": "b1fc82697690d5394813d7b32ae5c877233d2ec6558daccf0379c2991af558ac"
   }
  }
 },
 "nbformat": 4,
 "nbformat_minor": 2
}
